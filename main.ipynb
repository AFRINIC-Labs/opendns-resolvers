{
 "cells": [
  {
   "cell_type": "code",
   "execution_count": 1,
   "metadata": {},
   "outputs": [
    {
     "name": "stdout",
     "output_type": "stream",
     "text": [
      "Imported Modules successfully!\n"
     ]
    }
   ],
   "source": [
    "#\n",
    "# Desc: Script for Testing Open DNS Resolvers in Afrinic IP Space\n",
    "#\n",
    "# Import Modules\n",
    "import time\n",
    "import pandas as pd\n",
    "import datetime as DT\n",
    "import math\n",
    "import os\n",
    "import urllib\n",
    "import dns.resolver\n",
    "import dns.name\n",
    "from dns import reversename, resolver\n",
    "import subprocess\n",
    "from multiprocessing import Process, Pool\n",
    "import hashlib\n",
    "import psycopg2\n",
    "import requests, json\n",
    "from ipwhois import IPWhois\n",
    "try:\n",
    "    from urllib.request import urlopen, urlretrieve\n",
    "except ImportError:\n",
    "    from urllib import urlopen, urlretrieve\n",
    "print(\"Imported Modules successfully!\")"
   ]
  },
  {
   "cell_type": "code",
   "execution_count": 5,
   "metadata": {},
   "outputs": [],
   "source": [
    "#Function to be used"
   ]
  },
  {
   "cell_type": "code",
   "execution_count": 6,
   "metadata": {},
   "outputs": [],
   "source": [
    "# Define DB connection details and object\n",
    "db_connection = psycopg2.connect(user=\"postgres\", password=\"*******\", host=\"127.0.0.1\", port=\"5432\", database=\"****\")\n",
    "db_connection.autocommit = True\n",
    "db_cursor = db_connection.cursor()"
   ]
  },
  {
   "cell_type": "code",
   "execution_count": 7,
   "metadata": {},
   "outputs": [],
   "source": [
    "# Define Function to insert data into DB\n",
    "def db_insert_func(tablename:str, colums:list, data:list):\n",
    "    try:\n",
    "        datal = data.__str__().replace('[', '').replace(']', '')\n",
    "        col = colums.__str__().replace('[', '').replace(']', '').replace(\"'\", \"\")\n",
    "        sql_statement = \"\"\"INSERT INTO {} ({}) VALUES ({});\"\"\".format(tablename, col, datal)\n",
    "        db_cursor.execute(sql_statement)\n",
    "        res = True\n",
    "    except Exception as err:\n",
    "        res = False\n",
    "        print(err)\n",
    "    return res"
   ]
  },
  {
   "cell_type": "code",
   "execution_count": 8,
   "metadata": {},
   "outputs": [],
   "source": [
    "# Define Function to select data from DB\n",
    "def db_select_func(tablename:str):\n",
    "    try:\n",
    "        sql_statement1 = \"\"\"SELECT * FROM {};\"\"\".format(tablename)\n",
    "        db_cursor.execute(sql_statement1)\n",
    "        res = db_cursor.fetchmany(2)\n",
    "    except Exception as err:\n",
    "        pass\n",
    "        print(err)\n",
    "    return res"
   ]
  },
  {
   "cell_type": "code",
   "execution_count": 9,
   "metadata": {},
   "outputs": [],
   "source": [
    "# Function that allows you to download the file of AFRINIC's IP blocks\n",
    "def download_delegated_latest(delegated_latest_url, download_file):\n",
    "    req = urllib.request.Request(delegated_latest_url)\n",
    "    # Get file from Afrinic repo\n",
    "    with urllib.request.urlopen(req) as res:\n",
    "        with open(download_file, \"w\") as f:\n",
    "            for line in res:\n",
    "                print(line.decode(\"utf-8\").strip(), file=f)"
   ]
  },
  {
   "cell_type": "code",
   "execution_count": 10,
   "metadata": {},
   "outputs": [],
   "source": [
    "def update_rir_database(rir_database_url):\n",
    "    global dataDir\n",
    "    try:\n",
    "        os.mkdir(dataDir)\n",
    "    except FileExistsError:\n",
    "        pass\n",
    "    rir_database_path = os.path.join(dataDir, rir_database_url.split('/')[-1])\n",
    "    try:\n",
    "        if os.path.isfile(rir_database_path):\n",
    "            hash_md5 = hashlib.md5()\n",
    "            calculate_hash(hash_md5, rir_database_path)\n",
    "            md5_text = urlopen(rir_database_url + '.md5').read().decode('utf-8')\n",
    "            print('md5 on afrinic website',md5_text[-32:])\n",
    "            calculated_md5 = hash_md5.hexdigest()\n",
    "            print('md5 calculated', calculated_md5)\n",
    "            if not (calculated_md5 == md5_text[-32:]):\n",
    "                print('no ok')\n",
    "                print(rir_database_path)\n",
    "                os.remove(rir_database_path)\n",
    "                print(\"Downloading up-to-date RIR database {}\".format(rir_database_path))\n",
    "                download_delegated_latest(rir_database_url,rir_database_path)\n",
    "                #urlretrieve(rir_database_url, filename=rir_database_path)\n",
    "                #download_delegated_latest(rir_database_url,rir_database_path)\n",
    "                print(\"RIR database downloaded: {}\".format(rir_database_url))\n",
    "            else:\n",
    "                print(\"RIR database is up-to-date: {}\".format(rir_database_path))\n",
    "                print('ok')\n",
    "                #print(\"Updating RIR database: {}\".format(rir_database_url))\n",
    "\n",
    "                #print(\"RIR database updated: {}\".format(rir_database_url))\n",
    "        else:\n",
    "            print(\"Downloading RIR database {}\".format(rir_database_path))\n",
    "            download_delegated_latest(rir_database_url,rir_database_path)\n",
    "            #urlretrieve(rir_database_url, filename=rir_database_path)\n",
    "            print(\"RIR database downloaded: {}\".format(rir_database_url))\n",
    "    except IOError:\n",
    "        pass\n",
    "    return rir_database_path"
   ]
  },
  {
   "cell_type": "code",
   "execution_count": 11,
   "metadata": {},
   "outputs": [],
   "source": [
    "def calculate_hash(hash_md5, path):\n",
    "    with open(path, 'rb') as f:\n",
    "        for chunk in iter(lambda: f.read(4096), b''):\n",
    "            hash_md5.update(chunk)"
   ]
  },
  {
   "cell_type": "code",
   "execution_count": 12,
   "metadata": {},
   "outputs": [],
   "source": [
    "# Function that will retrieve the global file of AFRINIC's IP blocks and provide the list of IPV4 blocks\n",
    "def gen_ipv4_file(download_file):\n",
    "    global dataDir\n",
    "    saveDateIpv4 = os.path.join(dataDir, 'ipv4.txt')\n",
    "    headers = ['Registry', 'Country Code', 'Type', 'Start', 'Value', 'Date', 'Status', 'Extensions']\n",
    "    rir_database = pd.read_csv(download_file, delimiter='|', comment='#', names=headers, dtype=str,\n",
    "                                keep_default_na=False, na_values=[''], encoding='utf-8')[4:]\n",
    "    ipv4_database = rir_database[(rir_database['Type'] == 'ipv4')]\n",
    "    ipv4_database.to_csv(saveDateIpv4, header=None, index=None, sep='|', mode='a')\n",
    "    #print('ipv4 File Created successful')\n",
    "\n",
    "    return ipv4_database"
   ]
  },
  {
   "cell_type": "code",
   "execution_count": 13,
   "metadata": {},
   "outputs": [],
   "source": [
    "# Function that will retrieve the global file of AFRINIC's IP blocks and provide the list of IPV6 blocks\n",
    "def gen_ipv6_file(download_file):\n",
    "    global dataDir\n",
    "    saveDateIpv6 = os.path.join(dataDir, 'ipv6.txt')\n",
    "    headers = ['Registry', 'Country Code', 'Type', 'Start', 'Value', 'Date', 'Status', 'Extensions']\n",
    "    rir_database = pd.read_csv(download_file, delimiter='|', comment='#', names=headers, dtype=str,\n",
    "                                keep_default_na=False, na_values=[''], encoding='utf-8')[4:]\n",
    "    ipv6_database = rir_database[(rir_database['Type'] == 'ipv6')]\n",
    "    ipv6_database.to_csv(saveDateIpv6, header=None, index=None, sep='|', mode='a')\n",
    "    #print('ipv6 File Created successful')\n",
    "\n",
    "    return ipv6_database\n"
   ]
  },
  {
   "cell_type": "code",
   "execution_count": 14,
   "metadata": {},
   "outputs": [],
   "source": [
    "#insert data into ipv4 table\n",
    "def insert_data_ipv4(ipv4Data):\n",
    "    tbl = 'ipv4'\n",
    "    co = ['cc','start','cidr','blocStatus']\n",
    "    for index, row in ipv4Data.iterrows():\n",
    "        #print (\"{} | {} | {} | ASN | {} \".format(row[\"Country Code\"],row[\"Start\"], int(gencidr(row[\"Value\"])), row[\"Status\"]))\n",
    "        a1 = [row[\"Country Code\"],row[\"Start\"], int(gencidr(row[\"Value\"])), row[\"Status\"]]\n",
    "        db_insert_func(tbl, co, a1)"
   ]
  },
  {
   "cell_type": "code",
   "execution_count": 15,
   "metadata": {},
   "outputs": [],
   "source": [
    "#insert data into ipv6 table\n",
    "def insert_data_ipv6(ipv6Data):\n",
    "    tbl = 'ipv6'\n",
    "    co = ['cc','start','cidr','blocStatus']\n",
    "    for index, row in ipv6Data.iterrows():\n",
    "        #print (\"{} | {} | {} | ASN | {} \".format(row[\"Country Code\"],row[\"Start\"], int(gencidr(row[\"Value\"])), row[\"Status\"]))\n",
    "        a2 = [row[\"Country Code\"],row[\"Start\"], row[\"Value\"], row[\"Status\"]]\n",
    "        db_insert_func(tbl, co, a2)"
   ]
  },
  {
   "cell_type": "code",
   "execution_count": 16,
   "metadata": {},
   "outputs": [],
   "source": [
    "#insert data into opendns table\n",
    "def insert_data_opendns(resultData):\n",
    "    tbl = 'opendns'\n",
    "    col = ['bloc','cidr','zmap','openresolver','datetest']\n",
    "    db_insert_func(tbl, col, resultData)"
   ]
  },
  {
   "cell_type": "code",
   "execution_count": 17,
   "metadata": {},
   "outputs": [],
   "source": [
    "#insert data into opendnsv6 table\n",
    "def insert_data_opendnsv6(resultData):\n",
    "    tbl = 'opendnsv6'\n",
    "    col = ['bloc','cidr','zmap','reverseDNS','addrv6','openresolver','datetest']\n",
    "    db_insert_func(tbl, col, resultData)"
   ]
  },
  {
   "cell_type": "code",
   "execution_count": 18,
   "metadata": {},
   "outputs": [],
   "source": [
    "# Function that generate cidr value\n",
    "def gencidr(n):\n",
    "    return (32 - math.log2(int(n)))"
   ]
  },
  {
   "cell_type": "code",
   "execution_count": 19,
   "metadata": {},
   "outputs": [],
   "source": [
    "#Function that get asn of ip address using ripe atlas\n",
    "def get_asn_ripe(ip_addr: str):\n",
    "    try:\n",
    "        ripe_url = 'https://stat.ripe.net/data/network-info/data.json?sourceapp=afrinic-internship-research&resource='\n",
    "        get_request = requests.get(ripe_url + ip_addr).content\n",
    "        get_req = json.loads(get_request)\n",
    "        if get_req['data']['asns']:\n",
    "            result = get_req['data']['asns'][0]\n",
    "        else:\n",
    "            result = \"Unknown\"\n",
    "    except KeyError:\n",
    "        result = \"Unknown\"\n",
    "    return result"
   ]
  },
  {
   "cell_type": "code",
   "execution_count": null,
   "metadata": {},
   "outputs": [],
   "source": []
  },
  {
   "cell_type": "code",
   "execution_count": 20,
   "metadata": {},
   "outputs": [],
   "source": [
    "#Function that get asn of ip address using whois\n",
    "def get_asn_whois(ip_addr: str):\n",
    "    a = IPWhois(ip_addr).lookup_whois()\n",
    "    return a['asn']"
   ]
  },
  {
   "cell_type": "code",
   "execution_count": 21,
   "metadata": {},
   "outputs": [],
   "source": [
    "# Function to check if IPV4 DNS Resolver is open\n",
    "def checkopenresolver(host, testhostname=\"test.openresolver.com\", testreg=\"TXT\"):\n",
    "    resolver = dns.resolver.Resolver()\n",
    "    resolver.nameservers = [host]\n",
    "    openResolver = False\n",
    "    try:\n",
    "        for rdata in resolver.query(testhostname, testreg):\n",
    "            openResolver = True\n",
    "    except:\n",
    "        pass\n",
    "    return openResolver"
   ]
  },
  {
   "cell_type": "code",
   "execution_count": 22,
   "metadata": {},
   "outputs": [],
   "source": [
    "# Function to check if IPV6 DNS Resolver is open\n",
    "def checkopenresolveripv6 (host, testhostname=\"test.openresolver.com\", testreg=\"AAAA\"):\n",
    "    resolver = dns.resolver.Resolver()\n",
    "    resolver.nameservers = [host]\n",
    "    openResolver = False\n",
    "    try:\n",
    "        for rdata in resolver.query(testhostname, testreg):\n",
    "            openResolver = True\n",
    "    except:\n",
    "        pass\n",
    "    return openResolver"
   ]
  },
  {
   "cell_type": "code",
   "execution_count": null,
   "metadata": {},
   "outputs": [],
   "source": []
  },
  {
   "cell_type": "code",
   "execution_count": 23,
   "metadata": {},
   "outputs": [],
   "source": [
    "def reverseDns(ip):\n",
    "  try: \n",
    "    rev_name = reversename.from_address(ip)\n",
    "    reversed_dns = str(resolver.query(rev_name,\"PTR\")[0])\n",
    "    return reversed_dns\n",
    "  except: \n",
    "    return 'N/A'"
   ]
  },
  {
   "cell_type": "code",
   "execution_count": 24,
   "metadata": {},
   "outputs": [],
   "source": [
    "def getipv6(reverseName):\n",
    "    try:\n",
    "        answers_IPv6 = dns.resolver.query(reverseName, 'AAAA')\n",
    "        for rdata in answers_IPv6:\n",
    "            return rdata.address\n",
    "    except dns.resolver.NoAnswer:\n",
    "        pass\n",
    "    except dns.resolver.NXDOMAIN:\n",
    "        pass"
   ]
  },
  {
   "cell_type": "code",
   "execution_count": 25,
   "metadata": {},
   "outputs": [],
   "source": [
    "def verifyipv6(zmapIP):\n",
    "    ipv6 = []\n",
    "    for line in zmapIP:\n",
    "            i6 = getipv6(reverseDns(line))\n",
    "            if i6 is not None:\n",
    "                ipv6.append(i6)\n",
    "            else :\n",
    "                pass\n",
    "    return ipv6"
   ]
  },
  {
   "cell_type": "code",
   "execution_count": 26,
   "metadata": {},
   "outputs": [],
   "source": [
    "def zmaptest(blockIP):\n",
    "    global zmapDir\n",
    "    try:\n",
    "        os.mkdir(zmapDir)\n",
    "    except FileExistsError:\n",
    "        pass\n",
    "    block_ip = blockIP.split(\"/\")\n",
    "    filename = \"zmapoutput-{}-{}.txt\".format(block_ip[0], block_ip[1])\n",
    "    zmapoutput_path = os.path.join(zmapDir, filename)    \n",
    "    port = 53\n",
    "    cmd = \"sudo zmap -p{0} -o {1} {2}\".format(port, zmapoutput_path, blockIP)\n",
    "    subprocess.call(cmd.split(), shell=False)\n",
    "    zmap = []\n",
    "    with open(zmapoutput_path, \"r\") as f:\n",
    "        for line in f.readlines():\n",
    "            zmap.append(line.strip())\n",
    "    \n",
    "    return zmap"
   ]
  },
  {
   "cell_type": "code",
   "execution_count": 35,
   "metadata": {},
   "outputs": [],
   "source": [
    "def processv4(re, block, cidr, date):\n",
    "    for i in re:\n",
    "        resultData = [block, cidr, i, checkopenresolver(i), date]\n",
    "        print(resultData)\n",
    "        insert_data_opendns(resultData)"
   ]
  },
  {
   "cell_type": "code",
   "execution_count": 36,
   "metadata": {},
   "outputs": [],
   "source": [
    "def processv6(re, block, cidr, date):\n",
    "    for i in re:\n",
    "        reverseDNS = reverseDns(i)\n",
    "        if reverseDNS != 'N/A':\n",
    "            addrv6 = getipv6(reverseDNS)\n",
    "            if addrv6 is not None:\n",
    "                x = checkopenresolveripv6(addrv6)\n",
    "            else:\n",
    "                addrv6 = '-'\n",
    "                x = '-'\n",
    "        else :\n",
    "            reverseDNS = '-'\n",
    "            addrv6 = '-'\n",
    "            x = '-'\n",
    "        resultData1 = [block, cidr, i, reverseDNS, addrv6, x, date]\n",
    "        insert_data_opendnsv6(resultData1)\n",
    "        print(resultData1)"
   ]
  },
  {
   "cell_type": "code",
   "execution_count": 37,
   "metadata": {},
   "outputs": [],
   "source": [
    "def runInParallel(*fns):\n",
    "  proc = []\n",
    "  for fn in fns:\n",
    "    p = Process(target=fn)\n",
    "    p.start()\n",
    "    proc.append(p)\n",
    "  for p in proc:\n",
    "    p.join()"
   ]
  },
  {
   "cell_type": "code",
   "execution_count": 40,
   "metadata": {},
   "outputs": [],
   "source": [
    "def zmpt(bloc, cidr):\n",
    "    global dateTestLoaded\n",
    "    ipnet = \"{}/{}\".format(bloc, cidr)\n",
    "    re = zmaptest(ipnet)\n",
    "    runInParallel(processv4(re,bloc,cidr,dateTestLoaded), processv6(re,bloc,cidr,dateTestLoaded))\n",
    "    #print('Table for open dns on ipv4 bloc')\n",
    "    #processv4(re,bloc,cidr,dateTestLoaded)\n",
    "    #print('Table for ipv4 bloc with ipv6 connectivity')\n",
    "    #processv6(re,bloc,cidr,dateTestLoaded)\n",
    "    print('Test is completed')\n"
   ]
  },
  {
   "cell_type": "code",
   "execution_count": 28,
   "metadata": {},
   "outputs": [],
   "source": [
    "def loadzmp(tableName):\n",
    "    records = db_select_func(tableName)\n",
    "    for i in records:\n",
    "        zmpt(i[2],i[3])"
   ]
  },
  {
   "cell_type": "code",
   "execution_count": 31,
   "metadata": {
    "scrolled": true
   },
   "outputs": [],
   "source": [
    "if __name__ == \"__main__\":\n",
    "    #initialisation\n",
    "    projDir = os.getcwd(),\n",
    "    dataDir = os.path.abspath('data')\n",
    "    zmapDir = os.path.join(dataDir, 'zmap_database')\n",
    "    resultDir = os.path.join(dataDir, 'result')\n",
    "    rir_database_url = 'http://ftp.afrinic.net/stats/afrinic/delegated-afrinic-extended-latest'\n",
    "    summary = os.path.join(dataDir, 'summary.txt')\n",
    "    dateTestLoaded = DT.datetime.now().strftime(\"%d-%m-%Y\")\n",
    "\n",
    "\n",
    "    start_time = DT.datetime.now()\n",
    "    download_file = update_rir_database(rir_database_url)\n",
    "    ipv4D = gen_ipv4_file(download_file)\n",
    "    ipv6D = gen_ipv6_file(download_file)\n",
    "    insert_data_ipv4(ipv4D)\n",
    "    insert_data_ipv6(ipv6D)\n",
    "    tableName = 'ipv4'\n",
    "    loadzmp(tableName)\n",
    "    end_time = DT.datetime.now()\n",
    "\n",
    "    f = open(summary, \"a\")\n",
    "    #print(\"--- %s seconds ---\" % (time.time() - start_time))\n",
    "    f.write(\"Summary of programm excution\\n\")\n",
    "    f.write(\"Start Time : {} \\nEnd Time : {}\\n\".format(start_time.strftime(\"%Y-%m-%d %H:%M:%S\"), end_time.strftime(\"%Y-%m-%d %H:%M:%S\")))\n",
    "    f.write(\"Total time of execution is  : --- %s seconds ---\" % (end_time - start_time))\n",
    "    f.close()\n",
    "    print(\"DONE\")"
   ]
  },
  {
   "cell_type": "code",
   "execution_count": null,
   "metadata": {},
   "outputs": [],
   "source": []
  }
 ],
 "metadata": {
  "kernelspec": {
   "display_name": "Python 3",
   "language": "python",
   "name": "python3"
  },
  "language_info": {
   "codemirror_mode": {
    "name": "ipython",
    "version": 3
   },
   "file_extension": ".py",
   "mimetype": "text/x-python",
   "name": "python",
   "nbconvert_exporter": "python",
   "pygments_lexer": "ipython3",
   "version": "3.7.5"
  }
 },
 "nbformat": 4,
 "nbformat_minor": 2
}
