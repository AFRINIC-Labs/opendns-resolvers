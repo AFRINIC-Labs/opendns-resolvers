{
 "cells": [
  {
   "cell_type": "markdown",
   "metadata": {},
   "source": [
    "# DNS Open Resolver"
   ]
  },
  {
   "cell_type": "markdown",
   "metadata": {},
   "source": [
    "## Importing Modules"
   ]
  },
  {
   "cell_type": "code",
   "execution_count": 5,
   "metadata": {
    "ExecuteTime": {
     "end_time": "2019-09-13T07:10:09.544057Z",
     "start_time": "2019-09-13T07:10:07.135769Z"
    }
   },
   "outputs": [
    {
     "ename": "ModuleNotFoundError",
     "evalue": "No module named 'function'",
     "output_type": "error",
     "traceback": [
      "\u001b[0;31m---------------------------------------------------------------------------\u001b[0m",
      "\u001b[0;31mModuleNotFoundError\u001b[0m                       Traceback (most recent call last)",
      "\u001b[0;32m<ipython-input-5-8092d41c4f2d>\u001b[0m in \u001b[0;36m<module>\u001b[0;34m\u001b[0m\n\u001b[1;32m      4\u001b[0m \u001b[0;32mimport\u001b[0m \u001b[0mdatetime\u001b[0m \u001b[0;32mas\u001b[0m \u001b[0mDT\u001b[0m\u001b[0;34m\u001b[0m\u001b[0;34m\u001b[0m\u001b[0m\n\u001b[1;32m      5\u001b[0m \u001b[0;32mfrom\u001b[0m \u001b[0mpathlib\u001b[0m \u001b[0;32mimport\u001b[0m \u001b[0mPath\u001b[0m\u001b[0;34m\u001b[0m\u001b[0;34m\u001b[0m\u001b[0m\n\u001b[0;32m----> 6\u001b[0;31m \u001b[0;32mfrom\u001b[0m \u001b[0mfunction\u001b[0m \u001b[0;32mimport\u001b[0m \u001b[0mip_list_generator\u001b[0m \u001b[0;32mas\u001b[0m \u001b[0mIP_GEN\u001b[0m\u001b[0;34m\u001b[0m\u001b[0;34m\u001b[0m\u001b[0m\n\u001b[0m\u001b[1;32m      7\u001b[0m \u001b[0mprint\u001b[0m\u001b[0;34m(\u001b[0m\u001b[0;34m\"Imported Modules successfully!\"\u001b[0m\u001b[0;34m)\u001b[0m\u001b[0;34m\u001b[0m\u001b[0;34m\u001b[0m\u001b[0m\n",
      "\u001b[0;31mModuleNotFoundError\u001b[0m: No module named 'function'"
     ]
    }
   ],
   "source": [
    "# Import Modules\n",
    "import time\n",
    "import pandas as pd\n",
    "import datetime as DT\n",
    "from pathlib import Path\n",
    "from function import ip_list_generator as IP_GEN\n",
    "print(\"Imported Modules successfully!\")"
   ]
  },
  {
   "cell_type": "markdown",
   "metadata": {},
   "source": [
    "## Definition of Functions to be used"
   ]
  },
  {
   "cell_type": "code",
   "execution_count": 2,
   "metadata": {
    "ExecuteTime": {
     "end_time": "2019-09-13T07:10:27.283074Z",
     "start_time": "2019-09-13T07:10:27.267672Z"
    }
   },
   "outputs": [],
   "source": [
    "# Define based functions\n",
    "def gen_ip_list():\n",
    "    # Obtain Afrinic file to get the IP blocks lists and retrieve the appropriate ASN\n",
    "    destination_file = Path().cwd() / 'data' / 'afrinic_file_1.txt'\n",
    "    IP_GEN.download_delegated_latest('http://ftp.afrinic.net/stats/afrinic/delegated-afrinic-extended-latest',\n",
    "                                     destination_file)\n",
    "    print('Afrinic file Downloaded successfully at {}'.format(destination_file))\n",
    "    # Generate IP files\n",
    "    IP_GEN.gen_ip_file(destination_file)\n",
    "    return destination_file\n",
    "\n",
    "\n",
    "def gen_asn_list(infile, outfile: str):\n",
    "    # Create ASNIP Object\n",
    "    ip2asn_obj = IP2ASN(sourceapp=\"afrinic-intertnship-research\")\n",
    "\n",
    "    # Read infile with pandas module\n",
    "    headers = ['Block_ID', 'Country_Code', 'IP_Type', 'Block_IP', 'CIDR']\n",
    "    indata = pd.read_csv(infile, delimiter='|', comment='#', names=headers, dtype=str,\n",
    "                               keep_default_na=False, na_values=[''], encoding='utf-8')\n",
    "\n",
    "    main_data = indata[['Block_ID', 'Block_IP']]\n",
    "    main_data['ASN'] = main_data['Block_IP'].map(lambda Block_IP: ip2asn_obj.get_asn_ripe(Block_IP))\n",
    "\n",
    "    # Write output to file\n",
    "    main_data.to_csv(outfile, header=None, index=None, sep='|', mode='w')"
   ]
  },
  {
   "cell_type": "markdown",
   "metadata": {},
   "source": [
    "## Execution of main code"
   ]
  },
  {
   "cell_type": "markdown",
   "metadata": {},
   "source": [
    "### Execute generation of Blocks file based on AFRINIC file"
   ]
  },
  {
   "cell_type": "code",
   "execution_count": null,
   "metadata": {},
   "outputs": [],
   "source": [
    "# Call function to get AFRINIC ip blocks files and generate the formatted ip list file\n",
    "gen_ip_list()"
   ]
  },
  {
   "cell_type": "markdown",
   "metadata": {},
   "source": [
    "### Execute function to generate ASN based in IPv4 Blocks"
   ]
  },
  {
   "cell_type": "code",
   "execution_count": null,
   "metadata": {},
   "outputs": [],
   "source": [
    "## Generate IPv4 Blocks with corresponding ASN\n",
    "in_file4 = Path().cwd() / 'ipv4.txt'\n",
    "out_file4 = 'asn_ipv4_ripe.txt'\n",
    "stime = time.time()\n",
    "print(\"Start Time: {}\".format(DT.datetime.utcfromtimestamp(time.time()).isoformat() ))\n",
    "gen_asn_list(in_file4, out_file4)\n",
    "print(\"End Time: {}\".format(DT.datetime.utcfromtimestamp(time.time()).isoformat() ) )\n",
    "print(\"Elapse Time: {}\".format(time.time() - stime) )"
   ]
  },
  {
   "cell_type": "markdown",
   "metadata": {},
   "source": [
    "### Execute function to generate ASN based in IPv6 Blocks"
   ]
  },
  {
   "cell_type": "code",
   "execution_count": null,
   "metadata": {},
   "outputs": [],
   "source": [
    "## Generate IPv6 Blocks with corresponding ASN\n",
    "in_file6 = Path().cwd() / 'ipv6.txt'\n",
    "out_file6 = 'asn_ipv6_ripe.txt'\n",
    "stime = time.time()\n",
    "print(\"Start Time: {}\".format(DT.datetime.utcfromtimestamp(time.time()).isoformat() ))\n",
    "gen_asn_list(in_file6, out_file6)\n",
    "print(\"End Time: {}\".format(DT.datetime.utcfromtimestamp(time.time()).isoformat() ))\n",
    "print(\"Elapse Time: {}\".format(time.time() - stime) )"
   ]
  }
 ],
 "metadata": {
  "hide_input": false,
  "kernelspec": {
   "display_name": "Python 3",
   "language": "python",
   "name": "python3"
  },
  "language_info": {
   "codemirror_mode": {
    "name": "ipython",
    "version": 3
   },
   "file_extension": ".py",
   "mimetype": "text/x-python",
   "name": "python",
   "nbconvert_exporter": "python",
   "pygments_lexer": "ipython3",
   "version": "3.7.4"
  },
  "varInspector": {
   "cols": {
    "lenName": 16,
    "lenType": 16,
    "lenVar": 40
   },
   "kernels_config": {
    "python": {
     "delete_cmd_postfix": "",
     "delete_cmd_prefix": "del ",
     "library": "var_list.py",
     "varRefreshCmd": "print(var_dic_list())"
    },
    "r": {
     "delete_cmd_postfix": ") ",
     "delete_cmd_prefix": "rm(",
     "library": "var_list.r",
     "varRefreshCmd": "cat(var_dic_list()) "
    }
   },
   "types_to_exclude": [
    "module",
    "function",
    "builtin_function_or_method",
    "instance",
    "_Feature"
   ],
   "window_display": false
  }
 },
 "nbformat": 4,
 "nbformat_minor": 2
}
