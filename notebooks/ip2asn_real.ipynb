{
 "cells": [
  {
   "cell_type": "code",
   "execution_count": 1,
   "metadata": {
    "ExecuteTime": {
     "end_time": "2019-09-13T06:22:51.769713Z",
     "start_time": "2019-09-13T06:22:48.093258Z"
    }
   },
   "outputs": [
    {
     "name": "stdout",
     "output_type": "stream",
     "text": [
      "Modules imported successfully!\n"
     ]
    }
   ],
   "source": [
    "import requests\n",
    "import time\n",
    "import json\n",
    "import pandas as pd\n",
    "from pprint import pprint\n",
    "print('Modules imported successfully!')"
   ]
  },
  {
   "cell_type": "code",
   "execution_count": 2,
   "metadata": {
    "ExecuteTime": {
     "end_time": "2019-09-13T06:22:51.817348Z",
     "start_time": "2019-09-13T06:22:51.791383Z"
    }
   },
   "outputs": [],
   "source": [
    "# Definition of  IP2ASN Class\n",
    "class ASN2IP:\n",
    "    \"\"\"ASN2IP Class object intantiation.\n",
    "        Args:\n",
    "            sourceapp: Define the app name to beb used for querying Stat.ripe Data API\n",
    "    \"\"\"\n",
    "\n",
    "    def __init__(self, sourceapp: str=\"afrinic-intertnship-research\"):\n",
    "        self.sourceapp = sourceapp\n",
    "        self.ripe_url = 'https://stat.ripe.net/data/network-info/data.json?sourceapp=' + self.sourceapp + '&resource='\n",
    "\n",
    "    def get_asn_ripe(self, ip_addr: str):\n",
    "        get_request = requests.get(self.ripe_url + ip_addr).content\n",
    "        #print(\"Debugging -- {}\".format(get_request))\n",
    "        get_req = json.loads(get_request)\n",
    "        if get_req['data']['asns']:\n",
    "            result = ','.join(get_req['data']['asns'])\n",
    "        else:\n",
    "            result = \"Unknown\"\n",
    "        return result"
   ]
  },
  {
   "cell_type": "code",
   "execution_count": 4,
   "metadata": {
    "ExecuteTime": {
     "end_time": "2019-09-13T06:23:01.450968Z",
     "start_time": "2019-09-13T06:23:00.658340Z"
    }
   },
   "outputs": [
    {
     "name": "stdout",
     "output_type": "stream",
     "text": [
      "'Result: 4766'\n"
     ]
    }
   ],
   "source": [
    "if __name__ == \"__main__\":\n",
    "    ip = ASN2IP(sourceapp=\"afrinic-intertnship-research\")\n",
    "    result = ip.get_asn_ripe(\"1.100.0.0\")\n",
    "    pprint(\"Result: {}\".format(result))"
   ]
  },
  {
   "cell_type": "code",
   "execution_count": 7,
   "metadata": {
    "ExecuteTime": {
     "end_time": "2019-09-13T06:28:00.481164Z",
     "start_time": "2019-09-13T06:24:41.193071Z"
    }
   },
   "outputs": [
    {
     "name": "stdout",
     "output_type": "stream",
     "text": [
      "------------------ DONE -------------------\n"
     ]
    }
   ],
   "source": [
    "if __name__ == \"__main__\":\n",
    "    my_obj = ASN2IP(sourceapp=\"afrinic-intertnship-research\")\n",
    "    ip_list = ('41.79.188.0', '41.79.192.0', '41.79.196.0', '41.79.200.0', '41.79.204.0', '41.79.208.0', '41.79.212.0', '41.79.216.0', '41.79.220.0', '41.79.224.0', '41.79.228.0', '41.79.232.0', '41.79.236.0', '41.79.240.0', '41.79.244.0', '41.79.248.0', '41.79.252.0', '41.182.0.0', '41.183.0.0', '41.184.0.0', '41.185.0.0', '41.186.0.0', '41.187.0.0', '41.188.0.0', '41.207.64.0', '41.207.96.0', '41.207.128.0', '41.207.160.0', '41.207.192.0', '41.207.228.0', '41.207.232.0', '41.207.236.0', '41.207.240.0', '41.207.248.0', '41.207.252.0', '154.66.144.0', '154.66.152.0', '154.66.160.0', '154.66.176.0', '154.66.192.0', '154.66.196.0', '154.66.200.0', '154.66.204.0', '154.66.208.0', '154.66.216.0', '154.66.220.0', '154.66.224.0', '154.66.228.0', '154.66.232.0', '154.66.240.0', '154.66.248.0', '80.88.0.0', '80.88.2.0', '80.88.3.0', '80.88.4.0', '80.88.6.0', '80.88.7.0', '80.88.8.0', '80.88.9.0', '102.134.128.0', '102.134.129.0', '102.134.130.0', '102.134.144.0', '102.135.188.0', '102.135.189.0', '102.135.190.0', '102.135.191.0', '102.141.204.0', '102.141.228.0', '102.141.232.0', '102.141.233.0', '102.141.234.0', '102.141.235.0', '102.164.112.0', '102.164.114.0', '2c0f:f3fa::', '2c0f:f3fc::', '2c0f:f400::', '2c0f:f401::', '2c0f:f402::', '2c0f:f404::', '2c0f:f408::', '2c0f:f409::', '2c0f:f40a::', '2c0f:f40c::', '2c0f:f410::', '2c0f:f411::', '2c0f:f412::', '2c0f:f414::', '2c0f:f418::', '2c0f:f419::', '2c0f:f41a::', '2c0f:f41c::', '2c0f:f420::', '2c0f:f421::', '2c0f:f422::', '2c0f:f424::', '2c0f:f428::', '2c0f:f429::', '2c0f:f42a::', '2c0f:f42c::', '2c0f:f430::', '2c0f:f431::', '2c0f:ffcc::', '2c0f:ffd0::', '2c0f:ffd1::', '2c0f:ffd2::', '2c0f:ffd4::', '2c0f:ffd8::', '2c0f:ffd9::', '2c0f:ffda::', '2c0f:ffdc::', '2c0f:ffe0::', '2c0f:ffe8::', '2c0f:ffe9::', '2c0f:ffea::', '2c0f:ffec::', '2c0f:fff0::', '2c0f:fff1::', '2c0f:fff2::', '2c0f:fff4::', '2c0f:fff8::', '2001:43f8:6b4::', '2001:43f8:6b8::', '2001:43f8:6c0::', '2001:43f8:6c1::', '2001:43f8:6c2::', '2001:43f8:6c4::', '2001:43f8:6c8::', '2001:43f8:6d0::', '2001:43f8:6d4::', '2001:43f8:6d8::', '2001:43f8:6e0::', '2001:43f8:6e1::', '2001:43f8:6e2::', '2001:43f8:6e4::', '2001:43f8:6e8::', '2001:43f8:6f0::', '2001:43f8:700::', '2001:43f8:710::', '2001:43f8:720::', '2001:43f8:182::', '2001:43f8:184::', '2001:43f8:188::', '2001:43f8:190::', '2001:43f8:191::', '2001:43f8:192::', '2001:43f8:194::', '2001:43f8:198::', '2001:43f8:1a0::', '2001:43f8:1a1::', '2001:43f8:1a2::', '2001:43f8:1a4::', '2001:43f8:1a8::', '2001:43f8:1b0::', '2001:43f8:1b1::', '2001:43f8:1b2::', '2001:43f8:1b4::', '2001:43f8:1b8::', '2001:43f8:1c0::', '2001:43f8:1c1::', '2001:43f8:1c2::', '2001:43f8:1c4::', '2001:43f8:1c8::', '2001:43f8:1d0::', '196.223.32.0', '196.223.33.0', '196.223.34.0', '196.223.35.0', '196.223.36.0', '196.223.37.0', '196.223.38.0', '196.223.39.0', '196.223.40.0', '196.223.41.0', '196.223.42.0', '196.223.43.0', '196.223.44.0', '196.223.45.0', '196.223.47.0', '198.54.10.0', '198.54.15.0', '198.54.16.0', '198.54.17.0', '198.54.18.0', '198.54.19.0', '198.54.20.0', '198.54.22.0', '198.54.38.0', '198.54.44.0', '198.54.45.0', '198.54.46.0', '198.54.47.0', '198.54.48.0', '198.54.49.0', '198.54.50.0', '198.54.51.0', '198.54.52.0', '197.239.128.0')\n",
    "    with open('../data/test.out', 'w') as outfile: \n",
    "        for ip in ip_list:\n",
    "            stime = time.time()\n",
    "            outfile.write(\"{} == {} => {}\\n\".format( ip, my_obj.get_asn_ripe(ip), time.time() - stime ))\n",
    "    print(\"------------------ DONE -------------------\")"
   ]
  },
  {
   "cell_type": "code",
   "execution_count": null,
   "metadata": {},
   "outputs": [],
   "source": []
  }
 ],
 "metadata": {
  "hide_input": false,
  "kernelspec": {
   "display_name": "Python 3",
   "language": "python",
   "name": "python3"
  },
  "language_info": {
   "codemirror_mode": {
    "name": "ipython",
    "version": 3
   },
   "file_extension": ".py",
   "mimetype": "text/x-python",
   "name": "python",
   "nbconvert_exporter": "python",
   "pygments_lexer": "ipython3",
   "version": "3.7.4"
  },
  "varInspector": {
   "cols": {
    "lenName": 16,
    "lenType": 16,
    "lenVar": 40
   },
   "kernels_config": {
    "python": {
     "delete_cmd_postfix": "",
     "delete_cmd_prefix": "del ",
     "library": "var_list.py",
     "varRefreshCmd": "print(var_dic_list())"
    },
    "r": {
     "delete_cmd_postfix": ") ",
     "delete_cmd_prefix": "rm(",
     "library": "var_list.r",
     "varRefreshCmd": "cat(var_dic_list()) "
    }
   },
   "oldHeight": 269.2,
   "position": {
    "height": "290.8px",
    "left": "855.6px",
    "right": "20px",
    "top": "124px",
    "width": "585.8px"
   },
   "types_to_exclude": [
    "module",
    "function",
    "builtin_function_or_method",
    "instance",
    "_Feature"
   ],
   "varInspector_section_display": "block",
   "window_display": false
  }
 },
 "nbformat": 4,
 "nbformat_minor": 2
}
