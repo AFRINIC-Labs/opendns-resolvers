{
 "cells": [
  {
   "cell_type": "code",
   "execution_count": 1,
   "metadata": {
    "slideshow": {
     "slide_type": "-"
    }
   },
   "outputs": [],
   "source": [
    "import config\n",
    "import urllib.request\n",
    "from urllib.request import urlopen\n",
    "import os,sys\n",
    "import pandas as pd\n",
    "import hashlib\n",
    "import math\n",
    "import subprocess\n",
    "import dns.resolver\n",
    "import dns.reversename\n",
    "from threading import Thread\n",
    "import multiprocessing\n",
    "import datetime as dt\n",
    "from ipwhois import IPWhois\n",
    "import requests,json"
   ]
  },
  {
   "cell_type": "code",
   "execution_count": 2,
   "metadata": {},
   "outputs": [
    {
     "name": "stdout",
     "output_type": "stream",
     "text": [
      "Connecting to the PostgreSQL database...\n"
     ]
    }
   ],
   "source": [
    "resolver = dns.resolver.Resolver()\n",
    "#resolver.lifetime = 1\n",
    "odrDB = config.DB()\n",
    "odrDB.init()\n",
    "headers = {\n",
    "    'Accept': 'application/json',\n",
    "}\n",
    "#odrDB.close()"
   ]
  },
  {
   "cell_type": "code",
   "execution_count": 3,
   "metadata": {},
   "outputs": [],
   "source": [
    "# Function that allows you to download the file of AFRINIC's IP blocks\n",
    "def download_delegated_latest(delegated_latest_url, download_file):\n",
    "    with open(download_file, 'wb') as f:\n",
    "        response = requests.get(delegated_latest_url, stream=True)\n",
    "        total = response.headers.get('content-length')\n",
    "        if total is None:\n",
    "            f.write(response.content)\n",
    "        else:\n",
    "            downloaded = 0\n",
    "            total = int(total)\n",
    "            for data in response.iter_content(chunk_size=max(int(total / 1000), 1024 * 1024)):\n",
    "                downloaded += len(data)\n",
    "                f.write(data)\n",
    "                done = int(50 * downloaded / total)\n",
    "                sys.stdout.write('\\r[{}{}]'.format('█' * done, '.' * (50 - done)))\n",
    "                sys.stdout.flush()\n",
    "    sys.stdout.write('\\n')"
   ]
  },
  {
   "cell_type": "code",
   "execution_count": 4,
   "metadata": {},
   "outputs": [],
   "source": [
    "def download_rir_database(rir_database_url,rir_database_path):\n",
    "    global dataDir,dataDelegated\n",
    "    try:\n",
    "        os.mkdir(dataDir)\n",
    "        os.mkdir(dataDelegated)\n",
    "    except FileExistsError:\n",
    "        pass\n",
    "    try:\n",
    "        download_delegated_latest(rir_database_url,rir_database_path)\n",
    "    except IOError:\n",
    "        pass"
   ]
  },
  {
   "cell_type": "code",
   "execution_count": 5,
   "metadata": {},
   "outputs": [],
   "source": [
    "#Function that get asn of ip address using ripe atlas\n",
    "def getAsnFromRipe(bloc: str,cidr:int):\n",
    "    try:\n",
    "        ip_addr = \"{}/{}\".format(bloc,cidr)\n",
    "        ripe_url = 'https://stat.ripe.net/data/network-info/data.json?sourceapp=afrinic-internship-research&resource='\n",
    "        get_request = requests.get(ripe_url + ip_addr).content\n",
    "        get_req = json.loads(get_request)\n",
    "        if get_req['data']['asns']:\n",
    "            result = get_req['data']['asns'][0]\n",
    "        else:\n",
    "            result = \"Unknown\"\n",
    "    except KeyError:\n",
    "        result = \"Unknown\"\n",
    "    return result"
   ]
  },
  {
   "cell_type": "code",
   "execution_count": 6,
   "metadata": {},
   "outputs": [],
   "source": [
    "# Function to get Organisation Name form IP Block Address\n",
    "def getIPblockOrgName(bloc: str,cidr:int):\n",
    "    ripe_url = 'https://rdap.afrinic.net/rdap/ip/{}/{}'.format(bloc,cidr)\n",
    "    get_request = requests.get(ripe_url).content\n",
    "    get_req = json.loads(get_request)\n",
    "    orgname = get_req\n",
    "    return orgname['name']"
   ]
  },
  {
   "cell_type": "code",
   "execution_count": 7,
   "metadata": {},
   "outputs": [],
   "source": [
    "# Function to get Organisation Description form orgname\n",
    "def getDescOrgName(orgname: str):\n",
    "    ripe_url = 'https://rdap.afrinic.net/rdap/entity/'\n",
    "    get_request = requests.get(ripe_url + orgname).content\n",
    "    get_req = json.loads(get_request)\n",
    "    descorgname = get_req['vcardArray'][1][2][3]\n",
    "    return descorgname"
   ]
  },
  {
   "cell_type": "code",
   "execution_count": 8,
   "metadata": {},
   "outputs": [],
   "source": [
    "# Function that will retrieve the global file of AFRINIC's IP blocks and provide the list of IPV4 blocks\n",
    "def gen_ipv4_file(download_file,dateTest):\n",
    "    global dataIPV4\n",
    "    try:\n",
    "        os.mkdir(dataIPV4)\n",
    "    except FileExistsError:\n",
    "        pass\n",
    "    try:\n",
    "        saveDateIpv4 = os.path.join(dataIPV4, 'ipv4.txt') + \"-\" + dateTest\n",
    "        headers = ['Registry', 'Country Code', 'Type', 'Start', 'Value', 'Date', 'Status', 'Extensions']\n",
    "        rir_database = pd.read_csv(download_file, delimiter='|', comment='#', names=headers, dtype=str, keep_default_na=False, na_values=[''], encoding='utf-8')[4:]\n",
    "        ipv4_databaseA = rir_database[(rir_database['Type'] == 'ipv4')]\n",
    "        \n",
    "        ipv4_database = ipv4_databaseA.head()\n",
    "        \n",
    "        #ipv4_database.to_csv(saveDateIpv4, header=None, index=None, sep='|', mode='a')\n",
    "        #print('ipv4 File Created successful')\n",
    "\n",
    "        tbl = 'ipv4T' #ipv4 table with organisation name and asn number\n",
    "        col = ['ipStart','cidr','cc','blocStatus','numAsn','orgName','descOrg','dateSave']\n",
    "        for index, row in ipv4_database.iterrows():\n",
    "            data_cc = row[\"Country Code\"]\n",
    "            data_ipStart = row[\"Start\"]\n",
    "            data_cidr = int(gencidr(row[\"Value\"]))\n",
    "            data_blocStatus = row[\"Status\"]\n",
    "            data_orgName = getIPblockOrgName(data_ipStart,data_cidr)\n",
    "            data_numAsn = getAsnFromRipe(data_ipStart,data_cidr)\n",
    "            data_descOrg = getDescOrgName(data_orgName)\n",
    "            data_dateSave = dateTest\n",
    "        \n",
    "            data = [data_ipStart,data_cidr,data_cc,data_blocStatus,data_numAsn,data_orgName,data_descOrg,data_dateSave]\n",
    "        \n",
    "            odrDB.insert(tbl, col, data)\n",
    "        \n",
    "        print('ipv4 data inserted successful in database')\n",
    "    except IOError:\n",
    "        pass"
   ]
  },
  {
   "cell_type": "code",
   "execution_count": 9,
   "metadata": {},
   "outputs": [],
   "source": [
    "# Function that generate cidr value\n",
    "def gencidr(n):\n",
    "    return (32 - math.log2(int(n)))"
   ]
  },
  {
   "cell_type": "code",
   "execution_count": 10,
   "metadata": {},
   "outputs": [],
   "source": [
    "# Function to check if IPV4 DNS Resolver is open\n",
    "def checkopenresolver(host, testhostname=\"test.openresolver.com\", testreg=\"TXT\"):\n",
    "    resolver.nameservers = [host]\n",
    "    openResolver = False\n",
    "    try:\n",
    "        for rdata in resolver.resolve(testhostname, testreg):\n",
    "            openResolver = True\n",
    "    except:\n",
    "        pass\n",
    "    return openResolver"
   ]
  },
  {
   "cell_type": "code",
   "execution_count": 11,
   "metadata": {},
   "outputs": [],
   "source": [
    "def zmapTest(bloc, cidr):\n",
    "    global  zmapDir\n",
    "    try:\n",
    "        os.mkdir(zmapDir)\n",
    "    except FileExistsError:\n",
    "        pass\n",
    "    ipnet = \"{}/{}\".format(bloc, cidr)\n",
    "    filename = \"zmapoutput-{}-{}.txt\".format(bloc, cidr)\n",
    "    zmapoutput_path = os.path.join(zmapDir, filename)\n",
    "    os.mknod(zmapoutput_path)\n",
    "    port = 53\n",
    "    #cmd = \"zmap -B 10M  -p{0} -o {1} {2}\".format(port, zmapoutput_path, IPNetwork(ipnet))\n",
    "    cmd = \"zmap -B 10M -p{} -o {} {}\".format(port, zmapoutput_path, ipnet)\n",
    "    subprocess.call(cmd.split(), shell=False)\n",
    "    zmap = []\n",
    "    with open(zmapoutput_path, \"r\") as f:\n",
    "        for line in f.readlines():\n",
    "            zmap.append(line.strip())\n",
    "\n",
    "    return zmap"
   ]
  },
  {
   "cell_type": "code",
   "execution_count": 12,
   "metadata": {},
   "outputs": [],
   "source": [
    "#y = zmapTest('41.78.208.0', 22)"
   ]
  },
  {
   "cell_type": "code",
   "execution_count": 13,
   "metadata": {},
   "outputs": [],
   "source": [
    "def odrTestIPV4(zmap : list, bloc, cidr, datetest):\n",
    "    n = 0\n",
    "    openresolver = []\n",
    "    tbl = 'opendnsv4'\n",
    "    col = ['bloc', 'cidr', 'zmap', 'openresolver', 'datetest']\n",
    "\n",
    "    if zmap:\n",
    "        for i in zmap:\n",
    "            odrx = checkopenresolver(i)\n",
    "            if odrx is True:\n",
    "                openresolver.append(i)\n",
    "                n += 1\n",
    "            else:\n",
    "                pass\n",
    "            resultData = [bloc, cidr, i, odrx, datetest]\n",
    "            odrDB.insert(tbl, col, resultData)\n",
    "    else:\n",
    "        pass\n",
    "\n",
    "    return [n,openresolver]"
   ]
  },
  {
   "cell_type": "code",
   "execution_count": 14,
   "metadata": {},
   "outputs": [],
   "source": [
    "#odrTestIPV4(y, '41.78.208.0', 22, '2021-04-08')"
   ]
  },
  {
   "cell_type": "code",
   "execution_count": 15,
   "metadata": {},
   "outputs": [],
   "source": [
    "def getTestDate():\n",
    "    return dt.datetime.now()"
   ]
  },
  {
   "cell_type": "code",
   "execution_count": 16,
   "metadata": {},
   "outputs": [],
   "source": [
    "def getTestDuration(a,b):\n",
    "    return b-a"
   ]
  },
  {
   "cell_type": "code",
   "execution_count": 17,
   "metadata": {},
   "outputs": [],
   "source": [
    "def zmpt(bloc, cidr):\n",
    "    #testDate = dt.datetime.now().strftime(\"%d-%m-%Y\")\n",
    "    re = zmapTest(bloc, cidr)\n",
    "    return re"
   ]
  },
  {
   "cell_type": "code",
   "execution_count": 18,
   "metadata": {},
   "outputs": [],
   "source": [
    "def loadodrTest(tablename,datetest):\n",
    "    records = odrDB.select(tablename)\n",
    "    ipv4block_count = 0\n",
    "    for i in records:\n",
    "        y = zmapTest(i[1], int(i[2]))\n",
    "        r = odrTestIPV4(y, i[1], int(i[2]), datetest)\n",
    "        ipv4block_count += 1\n",
    "    return [ipv4block_count,r[0]]"
   ]
  },
  {
   "cell_type": "code",
   "execution_count": null,
   "metadata": {},
   "outputs": [],
   "source": []
  },
  {
   "cell_type": "code",
   "execution_count": null,
   "metadata": {},
   "outputs": [
    {
     "name": "stdout",
     "output_type": "stream",
     "text": [
      "---------------------------- START EXECUTION ----------------------------\n",
      "- START:: Download Delagated files -\n",
      "[██████████████████████████████████████████████████]\n",
      "- END:: Download files -\n",
      "\n",
      "\n",
      "- START:: Generate IPV4 in file -\n",
      "ipv4 data inserted successful in database\n",
      "- End:: Generate IPV4  Block in file -\n",
      "\n",
      "\n"
     ]
    }
   ],
   "source": [
    "if __name__ == '__main__':\n",
    "    print(\"---------------------------- START EXECUTION ----------------------------\")\n",
    "    #starting time\n",
    "    dateTestLoaded = getTestDate()\n",
    "    dateTest = str(dateTestLoaded).split(' ')[0]\n",
    "\n",
    "    #initialisation\n",
    "    projDir = os.getcwd()\n",
    "    dataDirName = 'data'\n",
    "    try:\n",
    "        os.mkdir(dataDirName)\n",
    "    except FileExistsError:\n",
    "        pass\n",
    "    dataDirNameTestDay = dateTestLoaded.strftime(\"%Y%m%d-%H%M%S\")\n",
    "    dirName = dataDirName+'/'+dataDirNameTestDay\n",
    "    dataDir = os.path.join(projDir, dirName)\n",
    "    dataDelegated = os.path.join(dataDir, 'delegated-latest')\n",
    "    dataIPV4 = os.path.join(dataDir, 'ipv4')\n",
    "    dataSummary = os.path.join(dataDir, 'summary')\n",
    "    zmapDir = os.path.join(dataDir, 'zmap_database')\n",
    "    resultDir = os.path.join(dataDir, 'result')\n",
    "    rir_database_url = 'http://ftp.afrinic.net/stats/afrinic/delegated-afrinic-extended-latest'\n",
    "    rir_database_path = os.path.join(dataDelegated, rir_database_url.split('/')[-1]) + \"-\" + dateTest\n",
    "    summary = os.path.join(dataSummary, 'summary.txt')+ \"-\" + dateTest\n",
    "\n",
    "    #Download Delagated files\n",
    "    print(\"- START:: Download Delagated files -\")\n",
    "    download_file = download_rir_database(rir_database_url,rir_database_path)\n",
    "    print(\"- END:: Download files -\")\n",
    "    print(\"\\n\")\n",
    "    \n",
    "    #Generating ip* data\n",
    "    print(\"- START:: Generate IPV4 in file -\")\n",
    "    ipv4D = gen_ipv4_file(rir_database_path,dateTest)\n",
    "    print(\"- End:: Generate IPV4  Block in file -\")\n",
    "    print(\"\\n\")\n",
    "    \n",
    "    loadingTest = loadodrTest('ipv4T',dateTest)\n",
    "    #ending time\n",
    "    dateTestEnded = getTestDate()\n",
    "    \n",
    "    #test time \n",
    "    duration = getTestDuration(dateTestLoaded, dateTestEnded)\n",
    "    \n",
    "    \n",
    "    \n",
    "    colu = ['startDate','endDate','testDuration','numBlocIPV4','numODRIPV4']\n",
    "    summaryR = [dateTestLoaded.strftime(\"%Y-%m-%d %H:%M:%S\"),dateTestEnded.strftime(\"%Y-%m-%d %H:%M:%S\"),str(duration),loadingTest[0],loadingTest[1]]\n",
    "    odrDB.insert('summaryTest',colu,summaryR)\n",
    "    \n",
    "    #write summary in summary.txt\n",
    "    try:\n",
    "        os.mkdir(dataSummary)\n",
    "    except FileExistsError:\n",
    "        pass\n",
    "    with open(summary, 'a') as f:\n",
    "        f.write(\"Summary of programm excution\\n\")\n",
    "        f.write(\"Start Time : {} \\nEnd Time : {}\\n\".format(dateTestLoaded.strftime(\"%Y-%m-%d %H:%M:%S\"), dateTestEnded.strftime(\"%Y-%m-%d %H:%M:%S\")))\n",
    "        f.write(\"Total time of execution is  : --- %s seconds ---\".format(duration))\n",
    "        f.close()\n",
    "\n",
    "    print(duration)\n",
    "    \n",
    "    print(\"---------------------------- TEST DONE ------------------------------\\n\")\n",
    "    print(\"---------------------------- END EXECUTION ----------------------------\")"
   ]
  },
  {
   "cell_type": "code",
   "execution_count": null,
   "metadata": {},
   "outputs": [],
   "source": []
  },
  {
   "cell_type": "code",
   "execution_count": null,
   "metadata": {},
   "outputs": [],
   "source": []
  }
 ],
 "metadata": {
  "celltoolbar": "Format de la Cellule Texte Brut",
  "kernelspec": {
   "display_name": "Python 3",
   "language": "python",
   "name": "python3"
  },
  "language_info": {
   "codemirror_mode": {
    "name": "ipython",
    "version": 3
   },
   "file_extension": ".py",
   "mimetype": "text/x-python",
   "name": "python",
   "nbconvert_exporter": "python",
   "pygments_lexer": "ipython3",
   "version": "3.9.2"
  }
 },
 "nbformat": 4,
 "nbformat_minor": 4
}
